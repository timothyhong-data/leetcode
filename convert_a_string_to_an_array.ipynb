{
 "cells": [
  {
   "cell_type": "code",
   "execution_count": 8,
   "metadata": {},
   "outputs": [
    {
     "name": "stdout",
     "output_type": "stream",
     "text": [
      "I love arrays they are my favorite this is good\n",
      "['I', 'love', 'arrays', 'they', 'are', 'my', 'favorite', 'this', 'is', 'good']\n"
     ]
    }
   ],
   "source": [
    "# \"Robin Singh\" ==> [\"Robin\", \"Singh\"]\n",
    "\n",
    "# \"I love arrays they are my favorite\" ==> [\"I\", \"love\", \"arrays\", \"they\", \"are\", \"my\", \"favorite\"]\n",
    "\n",
    "s = \"I love arrays they are my favorite this is good\"\n",
    "# s = ''\n",
    "print(s)\n",
    "if s == '':\n",
    "    split_s = s.split('\\n')\n",
    "else:\n",
    "    split_s = s.split()\n",
    "print(split_s)"
   ]
  },
  {
   "cell_type": "code",
   "execution_count": 12,
   "metadata": {},
   "outputs": [
    {
     "data": {
      "text/plain": [
       "['']"
      ]
     },
     "execution_count": 12,
     "metadata": {},
     "output_type": "execute_result"
    }
   ],
   "source": [
    "# s = \"I love arrays they are my favorite \\n this is good\"\n",
    "s = ''\n",
    "s.split(\" \")\n"
   ]
  },
  {
   "cell_type": "code",
   "execution_count": null,
   "metadata": {},
   "outputs": [],
   "source": [
    "#answer \n",
    "def string_to_array(s):\n",
    "    if s == '':\n",
    "        return s.split('\\n')\n",
    "    else:\n",
    "        return s.split()"
   ]
  },
  {
   "cell_type": "markdown",
   "metadata": {},
   "source": [
    "Split behaviour\n",
    ".split() without parameters tries to be clever. It splits on any whitespace, tabs, spaces, line feeds etc, and it also skips all empty strings as a result of this.\n",
    "\n",
    ">>> \"  fii    fbar \\n bopp \".split()\n",
    "['fii', 'fbar', 'bopp']\n",
    "Essentially, .split() without parameters are used to extract words from a string, as opposed to .split() with parameters which just takes a string and splits it.\n",
    "\n",
    "That's the reason for the difference.\n",
    "\n",
    "And yeah, counting lines by splitting is not an efficient way. Count the number of line feeds, and add one if the string doesn't end with a line feed."
   ]
  },
  {
   "cell_type": "code",
   "execution_count": 9,
   "metadata": {},
   "outputs": [
    {
     "name": "stdout",
     "output_type": "stream",
     "text": [
      "<class 'str'>\n"
     ]
    }
   ],
   "source": [
    "print(type(''))"
   ]
  },
  {
   "cell_type": "code",
   "execution_count": null,
   "metadata": {},
   "outputs": [],
   "source": []
  }
 ],
 "metadata": {
  "kernelspec": {
   "display_name": "Python 3.10.8 64-bit (microsoft store)",
   "language": "python",
   "name": "python3"
  },
  "language_info": {
   "codemirror_mode": {
    "name": "ipython",
    "version": 3
   },
   "file_extension": ".py",
   "mimetype": "text/x-python",
   "name": "python",
   "nbconvert_exporter": "python",
   "pygments_lexer": "ipython3",
   "version": "3.10.8"
  },
  "orig_nbformat": 4,
  "vscode": {
   "interpreter": {
    "hash": "346a7b03f305ecec699d70bf4e72139c0aa1f49e630c59425b9d9079b5520817"
   }
  }
 },
 "nbformat": 4,
 "nbformat_minor": 2
}
