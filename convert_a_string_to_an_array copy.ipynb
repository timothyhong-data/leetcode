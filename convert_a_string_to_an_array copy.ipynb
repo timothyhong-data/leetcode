# "Robin Singh" ==> ["Robin", "Singh"]

# "I love arrays they are my favorite" ==> ["I", "love", "arrays", "they", "are", "my", "favorite"]

txt = "I love arrays they are my favorite"

split_txt = txt.split()

print(split_txt)